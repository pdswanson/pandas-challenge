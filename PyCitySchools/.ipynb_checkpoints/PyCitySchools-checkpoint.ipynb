{
 "cells": [
  {
   "cell_type": "code",
   "execution_count": null,
   "metadata": {},
   "outputs": [],
   "source": [
    "# Dependencies and Setup\n",
    "import pandas as pd\n",
    "import numpy as np\n",
    "\n",
    "# File to Load (Remember to Change These)\n",
    "school_data_to_load = \"Resources/schools_complete.csv\"\n",
    "student_data_to_load = \"Resources/students_complete.csv\"\n",
    "\n",
    "# Read School and Student Data File and store into Pandas Data Frames\n",
    "school_data = pd.read_csv(school_data_to_load)\n",
    "student_data = pd.read_csv(student_data_to_load)\n",
    "\n",
    "# Combine the data into a single dataset\n",
    "school_data_complete = pd.merge(student_data, school_data, how=\"left\", on=[\"school_name\", \"school_name\"])\n",
    "school_data_complete.head()"
   ]
  },
  {
   "cell_type": "code",
   "execution_count": null,
   "metadata": {},
   "outputs": [],
   "source": [
    "schools = len(school_data_complete[['school_name']].drop_duplicates())\n",
    "students = len(school_data_complete)\n",
    "budget = '${:,.2f}'.format(sum(school_data['budget']))\n",
    "avg_math = school_data_complete['math_score'].mean()\n",
    "avg_read = school_data_complete['reading_score'].mean()\n",
    "passmath = sum(x >= 70 for x in school_data_complete['math_score'])\n",
    "pct_math = (passmath / students) * 100\n",
    "passread = sum(x >= 70 for x in school_data_complete['reading_score'])\n",
    "pct_read = (passread / students) * 100\n",
    "pass_tot = (avg_math + avg_read) / 2\n",
    "\n",
    "dist_sum = {'Total Schools': [schools], 'Total Students': [students], 'Total Budget': [budget],\n",
    "            'Average Math Score': [avg_math], 'Average Reading Score': [avg_read], '% Passing Math': [pct_math],\n",
    "            '% Passing Reading': [pct_read], '% Overall Passing Rate': [pass_tot]}\n",
    "school_data_summary = pd.DataFrame(dist_sum)\n",
    "school_data_summary"
   ]
  },
  {
   "cell_type": "code",
   "execution_count": null,
   "metadata": {},
   "outputs": [],
   "source": [
    "sch_sum = school_data_complete.groupby(['school_name', 'type']).mean()\n",
    "sch_sum['Per Student Budget'] = (sch_sum['budget'] / sch_sum['size']).map('${:,.2f}'.format)\n",
    "sch_sum['% Passing Math'] = 100 * school_data_complete.groupby(['school_name', 'type'])['math_score'].apply(lambda c: (c >= 70).sum()/len(c))\n",
    "sch_sum['% Passing Reading'] = 100 * school_data_complete.groupby(['school_name', 'type'])['reading_score'].apply(lambda c: (c >= 70).sum()/len(c))\n",
    "sch_sum['% Overall Passing Rate'] = (sch_sum['% Passing Math'] + sch_sum['% Passing Reading']) / 2\n",
    "org_school = sch_sum[['size', 'budget', 'Per Student Budget', 'math_score', 'reading_score', '% Passing Math', \n",
    "                      '% Passing Reading', '% Overall Passing Rate']]\n",
    "school_sum = org_school.rename(columns={'size':'Total Students', 'budget':'Total School Budget', \n",
    "                                        'math_score':'Average Math Score', 'reading_score':'Average Reading Score'})\n",
    "school_sum['Total Students'] = school_sum['Total Students'].map('{:.0f}'.format)\n",
    "school_sum['Total School Budget'] = school_sum['Total School Budget'].map('${:,.2f}'.format)\n",
    "school_sum.sort_values(['% Overall Passing Rate'], ascending=[False]).head()"
   ]
  },
  {
   "cell_type": "code",
   "execution_count": null,
   "metadata": {},
   "outputs": [],
   "source": [
    "school_sum.sort_values(['% Overall Passing Rate']).head()"
   ]
  },
  {
   "cell_type": "code",
   "execution_count": null,
   "metadata": {},
   "outputs": [],
   "source": [
    "math_09 = school_data_complete.loc[school_data_complete['grade'] == '9th'].groupby(['school_name'])['math_score'].mean()\n",
    "math_10 = school_data_complete.loc[school_data_complete['grade'] == '10th'].groupby(['school_name'])['math_score'].mean()\n",
    "math_11 = school_data_complete.loc[school_data_complete['grade'] == '11th'].groupby(['school_name'])['math_score'].mean()\n",
    "math_12 = school_data_complete.loc[school_data_complete['grade'] == '12th'].groupby(['school_name'])['math_score'].mean()\n",
    "bygrade_math = pd.DataFrame({'9th': math_09, '10th': math_10, '11th': math_11, '12th': math_12})\n",
    "bygrade_math"
   ]
  },
  {
   "cell_type": "code",
   "execution_count": null,
   "metadata": {},
   "outputs": [],
   "source": [
    "read_09 = school_data_complete.loc[school_data_complete['grade'] == '9th'].groupby(['school_name'])['reading_score'].mean()\n",
    "read_10 = school_data_complete.loc[school_data_complete['grade'] == '10th'].groupby(['school_name'])['reading_score'].mean()\n",
    "read_11 = school_data_complete.loc[school_data_complete['grade'] == '11th'].groupby(['school_name'])['reading_score'].mean()\n",
    "read_12 = school_data_complete.loc[school_data_complete['grade'] == '12th'].groupby(['school_name'])['reading_score'].mean()\n",
    "bygrade_read = pd.DataFrame({'9th': read_09, '10th': read_10, '11th': read_11, '12th': read_12})\n",
    "bygrade_read"
   ]
  },
  {
   "cell_type": "code",
   "execution_count": null,
   "metadata": {},
   "outputs": [],
   "source": [
    "by_spend = school_sum.copy()\n",
    "spending_bins = [0, 585, 615, 645, 675]\n",
    "group_names = [\"$0-585\", \"$585-615\", \"$615-645\", \"$645-675\"]\n",
    "by_spend['Spending Ranges (Per Student)'] = pd.cut((sch_sum['budget'] / sch_sum['size']).astype(float), spending_bins, labels = group_names)\n",
    "spending = by_spend.groupby(['Spending Ranges (Per Student)'])['Average Math Score', 'Average Reading Score',\n",
    "                                                               '% Passing Math', '% Passing Reading',\n",
    "                                                               '% Overall Passing Rate'].mean()\n",
    "spending"
   ]
  },
  {
   "cell_type": "code",
   "execution_count": null,
   "metadata": {},
   "outputs": [],
   "source": [
    "by_size = school_sum.copy()\n",
    "size_bins = [0, 1000, 2000, 5000]\n",
    "group_names = [\"Small (<1000)\", \"Medium (1000-2000)\", \"Large (2000-5000)\"]\n",
    "by_size['School Size'] = pd.cut(by_size['Total Students'].astype(float), size_bins, labels = group_names)\n",
    "school_size = by_size.groupby(['School Size'])['Average Math Score', 'Average Reading Score', '% Passing Math',\n",
    "                                               '% Passing Reading', '% Overall Passing Rate'].mean()\n",
    "school_size"
   ]
  },
  {
   "cell_type": "code",
   "execution_count": null,
   "metadata": {},
   "outputs": [],
   "source": [
    "by_type = school_sum.copy()\n",
    "school_type = by_type.groupby(['type'])['Average Math Score', 'Average Reading Score', '% Passing Math',\n",
    "                                        '% Passing Reading', '% Overall Passing Rate'].mean()\n",
    "school_type"
   ]
  },
  {
   "cell_type": "code",
   "execution_count": null,
   "metadata": {},
   "outputs": [],
   "source": []
  }
 ],
 "metadata": {
  "kernelspec": {
   "display_name": "Python 3",
   "language": "python",
   "name": "python3"
  },
  "language_info": {
   "codemirror_mode": {
    "name": "ipython",
    "version": 3
   },
   "file_extension": ".py",
   "mimetype": "text/x-python",
   "name": "python",
   "nbconvert_exporter": "python",
   "pygments_lexer": "ipython3",
   "version": "3.7.4"
  }
 },
 "nbformat": 4,
 "nbformat_minor": 2
}
